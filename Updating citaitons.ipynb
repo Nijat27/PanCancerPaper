{
 "cells": [
  {
   "cell_type": "code",
   "execution_count": null,
   "id": "71b8fdcc",
   "metadata": {},
   "outputs": [],
   "source": []
  },
  {
   "cell_type": "markdown",
   "id": "bc5091d2",
   "metadata": {},
   "source": [
    "## Section 1: Replace Old Papers with Newer, Relevant Ones\n",
    "\n",
    "| **Rank** | **Citation**                                                                                                                                                | **Year** | **Claim Supported**                                                                  | **Replacement (2022–2025)**                                                                                                                                                                                      |\n",
    "| :------: | :---------------------------------------------------------------------------------------------------------------------------------------------------------- | :------: | :----------------------------------------------------------------------------------- | :--------------------------------------------------------------------------------------------------------------------------------------------------------------------------------------------------------------- |\n",
    "|     1    | Bryant SJ, Davies DJ. “Diagnostic error in anatomical pathology: the uncertainty of its measurement?” *Pathology* 38:487–489.                               | **2006** | Histopathology suffers from error and inter-observer variability.                    | **Wang et al. (2023)** “Neuropathologist-level integrated classification of adult-type diffuse gliomas using deep learning from whole-slide pathological images.” Nature Communications. 14(1):6359 (Nature Communications)|\n",
    "|     2    | Cooper LA et al. “Integrated morphologic analysis for the identification and characterization of disease subtypes.” *J Am Med Inform Assoc.* 19(2):317–323.  | **2012** | Morphology plus informatics can define novel disease subtypes.                       | **Jiang et al. (2024)** “The integrated molecular and histological analysis defines subtypes of esophageal squamous cell carcinoma.” Nature Communications. 15(1):8988 (Nature Communications))                                                     |\n",
    "|     3    | Cancer Genome Atlas Research Network. “Comprehensive molecular characterization of human colon and rectal cancer.” *Nature* 487:330–337.                    | **2012** | Single-platform (e.g., mRNA) molecular profiling yields high-dimensional subtyping.  | **Yang et al. (2022)** “DNA methylation-based epigenetic signatures predict somatic genomic alterations in gliomas” *Nat. Commun.* 13(1):4410 ([Nature][3])                                                     |\n",
    " \n",
    "              |\n"
   ]
  },
  {
   "cell_type": "markdown",
   "id": "8d1acd33",
   "metadata": {},
   "source": [
    "## Section 2: New Citations & Suggested Locations\n",
    "\n",
    "| **Key**                     | **Citation (with link)**                                                                                                                                                                                                                                                                                 | **Section**                                               | **Where to Insert / Claim Supported**                                                                                                                                                                                               |\n",
    "|-----------------------------|----------------------------------------------------------------------------------------------------------------------------------------------------------------------------------------------------------------------------------------------------------------------------------------------------------|-----------------------------------------------------------|-------------------------------------------------------------------------------------------------------------------------------------------------------------------------------------------------------------------------------------|\n",
    "| **MOGAT**, **DeepMoIC**, **SeNMo** | Tanvir et al. (2024). *MOGAT: A Multi-Omics Integration Framework Using Graph Attention Networks for Cancer Subtype Prediction.* Int. J. Mol. Sci., 25(5), 2788. [https://doi.org/10.3390/ijms25052788](https://doi.org/10.3390/ijms25052788)<br>Wu et al. (2024). *DeepMoIC: Multi-Omics Data Integration via Deep Graph Convolutional Networks for Cancer Subtype Classification.* BMC Genomics, 25(1), 1209. [https://doi.org/10.1186/s12864-024-11112-5](https://doi.org/10.1186/s12864-024-11112-5)<br>Waqas et al. (2024). *SeNMo: A Self-Normalizing Deep Learning Model for Enhanced Multi-Omics Data Analysis in Oncology.* arXiv:2405.08226. [https://doi.org/10.48550/arXiv.2405.08226](https://doi.org/10.48550/arXiv.2405.08226) | Introduction / Multi-Omics Integration Frameworks         | After “Integrating gene expression and DNA methylation data offers a balanced approach…” (end §1 L24–26):<br>“Recent graph-based deep-learning frameworks have pushed this further. For example, MOGAT… , DeepMoIC… , and SeNMo… .”        |\n",
    "| **MOGKAN**                  | Alharbi et al. (2025). *Graph Kolmogorov-Arnold Networks for Multi-Cancer Classification and Biomarker Identification: An Interpretable Multi-Omics Approach* (v2) [Preprint]. arXiv:2503.22939. [https://doi.org/10.48550/arXiv.2503.22939](https://doi.org/10.48550/arXiv.2503.22939)                                                                    | Introduction / Interpretability in Multi-Omics            | Immediately after “interpretability and feature analysis”:<br>“A similar interpretable multi-omics graph approach was recently described in MOGKAN, which leverages Kolmogorov-Arnold networks for cross-cancer biomarker discovery.” |\n",
    "| **Graph ML**                | Valous et al. (2024). *Graph Machine Learning for Integrated Multi-Omics Analysis.* Br. J. Cancer, 131(2), 205–211. [https://doi.org/10.1038/s41416-024-02706-7](https://doi.org/10.1038/s41416-024-02706-7)                                                                                                                                              | Discussion / Emerging Computational Approaches            | Replace/augment “other approaches in the literature have also focused on integrating multi-omics data…” with:<br>“Graph-machine-learning methods have matured rapidly—Valous et al. (2024) provide a comprehensive overview…”             |\n",
    "| **Survival Prediction**     | Tran et al. (2025). *A Comprehensive Review of Cancer Survival Prediction Using Multi-Omics Integration and Clinical Variables.* Brief. Bioinform., 26(2), bbaf150. [https://doi.org/10.1093/bib/bbaf150](https://doi.org/10.1093/bib/bbaf150)                                                                                          | Discussion / Clinical Prediction & Survival Modeling      | After “Our integrated analysis … supports more tailored patient management strategies,” add:<br>“A recent survey by Tran et al. (2025) highlights how multi-omics integration with clinical variables can improve survival prediction…” |\n",
    "| **Limited Data**             | Bu et al. (2024). *Cancer Molecular Subtyping Using Limited Multi-Omics Data with Missingness.* PLoS Comput. Biol., 20(12), e1012710. [https://doi.org/10.1371/journal.pcbi.1012710](https://doi.org/10.1371/journal.pcbi.1012710)                                                                                                 | Methods or Discussion / Practical Data-Availability Issues | When noting “cost, tissue availability, and complexity” for multiplatform assays, follow with:<br>“Methods for handling missing omics modalities—such as Bu et al.’s framework… —may help alleviate these barriers in future workflows.”    |\n"
   ]
  }
 ],
 "metadata": {
  "language_info": {
   "name": "python"
  }
 },
 "nbformat": 4,
 "nbformat_minor": 5
}
